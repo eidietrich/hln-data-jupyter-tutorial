{
 "cells": [
  {
   "cell_type": "code",
   "execution_count": 9,
   "metadata": {},
   "outputs": [],
   "source": [
    "# import Pandas data analysis library\n",
    "# By convention, libraries are loaded at top of notebook so you know what tools are being used\n",
    "import pandas as pd\n",
    "# 'as pd' lets you reference the library functions with pd.function(), not pandas.function() for brevity"
   ]
  },
  {
   "cell_type": "markdown",
   "metadata": {},
   "source": [
    "## Loading data"
   ]
  },
  {
   "cell_type": "code",
   "execution_count": 23,
   "metadata": {},
   "outputs": [],
   "source": [
    "# load csv data as a Pandas DataFrame object (i.e. table)\n",
    "# this is a list of all tax exempt nonprofits in Montana, from the IRS\n",
    "# Source: https://www.irs.gov/charities-non-profits/exempt-organizations-business-master-file-extract-eo-bmf\n",
    "# Data dictionary (what's in each column): \n",
    "\n",
    "df = pd.read_csv('data/irs_exempt_org_list_mt.csv')"
   ]
  },
  {
   "cell_type": "code",
   "execution_count": 4,
   "metadata": {},
   "outputs": [
    {
     "data": {
      "text/html": [
       "<div>\n",
       "<style scoped>\n",
       "    .dataframe tbody tr th:only-of-type {\n",
       "        vertical-align: middle;\n",
       "    }\n",
       "\n",
       "    .dataframe tbody tr th {\n",
       "        vertical-align: top;\n",
       "    }\n",
       "\n",
       "    .dataframe thead th {\n",
       "        text-align: right;\n",
       "    }\n",
       "</style>\n",
       "<table border=\"1\" class=\"dataframe\">\n",
       "  <thead>\n",
       "    <tr style=\"text-align: right;\">\n",
       "      <th></th>\n",
       "      <th>EIN</th>\n",
       "      <th>NAME</th>\n",
       "      <th>ICO</th>\n",
       "      <th>STREET</th>\n",
       "      <th>CITY</th>\n",
       "      <th>STATE</th>\n",
       "      <th>ZIP</th>\n",
       "      <th>GROUP</th>\n",
       "      <th>SUBSECTION</th>\n",
       "      <th>AFFILIATION</th>\n",
       "      <th>...</th>\n",
       "      <th>ASSET_CD</th>\n",
       "      <th>INCOME_CD</th>\n",
       "      <th>FILING_REQ_CD</th>\n",
       "      <th>PF_FILING_REQ_CD</th>\n",
       "      <th>ACCT_PD</th>\n",
       "      <th>ASSET_AMT</th>\n",
       "      <th>INCOME_AMT</th>\n",
       "      <th>REVENUE_AMT</th>\n",
       "      <th>NTEE_CD</th>\n",
       "      <th>SORT_NAME</th>\n",
       "    </tr>\n",
       "  </thead>\n",
       "  <tbody>\n",
       "    <tr>\n",
       "      <td>0</td>\n",
       "      <td>10571299</td>\n",
       "      <td>HILLSIDE CHURCH</td>\n",
       "      <td>% TERESA PARKER</td>\n",
       "      <td>5685 HWY 93 S</td>\n",
       "      <td>WHITEFISH</td>\n",
       "      <td>MT</td>\n",
       "      <td>59937-8523</td>\n",
       "      <td>1489</td>\n",
       "      <td>3</td>\n",
       "      <td>9</td>\n",
       "      <td>...</td>\n",
       "      <td>0</td>\n",
       "      <td>0</td>\n",
       "      <td>6</td>\n",
       "      <td>0</td>\n",
       "      <td>12</td>\n",
       "      <td>NaN</td>\n",
       "      <td>NaN</td>\n",
       "      <td>NaN</td>\n",
       "      <td>NaN</td>\n",
       "      <td>NaN</td>\n",
       "    </tr>\n",
       "    <tr>\n",
       "      <td>1</td>\n",
       "      <td>10613656</td>\n",
       "      <td>CHAPEL OF HOPE MINISTRIES OF ROUNDUP</td>\n",
       "      <td>% MERLE &amp; LOUISE HUNT</td>\n",
       "      <td>16843 HWY 12 WEST</td>\n",
       "      <td>ROUNDUP</td>\n",
       "      <td>MT</td>\n",
       "      <td>59072-0000</td>\n",
       "      <td>0</td>\n",
       "      <td>3</td>\n",
       "      <td>3</td>\n",
       "      <td>...</td>\n",
       "      <td>3</td>\n",
       "      <td>3</td>\n",
       "      <td>6</td>\n",
       "      <td>0</td>\n",
       "      <td>9</td>\n",
       "      <td>NaN</td>\n",
       "      <td>NaN</td>\n",
       "      <td>NaN</td>\n",
       "      <td>X20</td>\n",
       "      <td>YCH</td>\n",
       "    </tr>\n",
       "    <tr>\n",
       "      <td>2</td>\n",
       "      <td>10649149</td>\n",
       "      <td>MONTANA 4-H FOUNDATION INC</td>\n",
       "      <td>% MUSSELSHELL-GOLDEN VALLEY COUNTY</td>\n",
       "      <td>204 8TH AVE E</td>\n",
       "      <td>ROUNDUP</td>\n",
       "      <td>MT</td>\n",
       "      <td>59072-2347</td>\n",
       "      <td>5954</td>\n",
       "      <td>3</td>\n",
       "      <td>9</td>\n",
       "      <td>...</td>\n",
       "      <td>0</td>\n",
       "      <td>0</td>\n",
       "      <td>2</td>\n",
       "      <td>0</td>\n",
       "      <td>9</td>\n",
       "      <td>0.0</td>\n",
       "      <td>0.0</td>\n",
       "      <td>0.0</td>\n",
       "      <td>NaN</td>\n",
       "      <td>MUSSELSHELL GOLDEN VALLEY 4H COUNCI</td>\n",
       "    </tr>\n",
       "    <tr>\n",
       "      <td>3</td>\n",
       "      <td>10667433</td>\n",
       "      <td>KNIGHTS OF COLUMBUS</td>\n",
       "      <td>% WM TODD WOHLMAN FIN SEC</td>\n",
       "      <td>PO BOX 851</td>\n",
       "      <td>STEVENSVILLE</td>\n",
       "      <td>MT</td>\n",
       "      <td>59870-0851</td>\n",
       "      <td>188</td>\n",
       "      <td>8</td>\n",
       "      <td>9</td>\n",
       "      <td>...</td>\n",
       "      <td>0</td>\n",
       "      <td>0</td>\n",
       "      <td>2</td>\n",
       "      <td>0</td>\n",
       "      <td>12</td>\n",
       "      <td>0.0</td>\n",
       "      <td>0.0</td>\n",
       "      <td>0.0</td>\n",
       "      <td>NaN</td>\n",
       "      <td>13093 OUR LADY OF THE MOUNTAINS</td>\n",
       "    </tr>\n",
       "    <tr>\n",
       "      <td>4</td>\n",
       "      <td>10671365</td>\n",
       "      <td>GARDEN CITY NEIGHBORS INC</td>\n",
       "      <td>% PETER B HANCE</td>\n",
       "      <td>1235 34TH STREET</td>\n",
       "      <td>MISSOULA</td>\n",
       "      <td>MT</td>\n",
       "      <td>59801-8516</td>\n",
       "      <td>0</td>\n",
       "      <td>3</td>\n",
       "      <td>3</td>\n",
       "      <td>...</td>\n",
       "      <td>6</td>\n",
       "      <td>1</td>\n",
       "      <td>2</td>\n",
       "      <td>0</td>\n",
       "      <td>3</td>\n",
       "      <td>1223205.0</td>\n",
       "      <td>4479.0</td>\n",
       "      <td>4479.0</td>\n",
       "      <td>L21</td>\n",
       "      <td>NaN</td>\n",
       "    </tr>\n",
       "  </tbody>\n",
       "</table>\n",
       "<p>5 rows × 28 columns</p>\n",
       "</div>"
      ],
      "text/plain": [
       "        EIN                                  NAME  \\\n",
       "0  10571299                       HILLSIDE CHURCH   \n",
       "1  10613656  CHAPEL OF HOPE MINISTRIES OF ROUNDUP   \n",
       "2  10649149            MONTANA 4-H FOUNDATION INC   \n",
       "3  10667433                   KNIGHTS OF COLUMBUS   \n",
       "4  10671365             GARDEN CITY NEIGHBORS INC   \n",
       "\n",
       "                                  ICO             STREET          CITY STATE  \\\n",
       "0                     % TERESA PARKER      5685 HWY 93 S     WHITEFISH    MT   \n",
       "1               % MERLE & LOUISE HUNT  16843 HWY 12 WEST       ROUNDUP    MT   \n",
       "2  % MUSSELSHELL-GOLDEN VALLEY COUNTY      204 8TH AVE E       ROUNDUP    MT   \n",
       "3           % WM TODD WOHLMAN FIN SEC         PO BOX 851  STEVENSVILLE    MT   \n",
       "4                     % PETER B HANCE   1235 34TH STREET      MISSOULA    MT   \n",
       "\n",
       "          ZIP  GROUP  SUBSECTION  AFFILIATION  ...  ASSET_CD  INCOME_CD  \\\n",
       "0  59937-8523   1489           3            9  ...         0          0   \n",
       "1  59072-0000      0           3            3  ...         3          3   \n",
       "2  59072-2347   5954           3            9  ...         0          0   \n",
       "3  59870-0851    188           8            9  ...         0          0   \n",
       "4  59801-8516      0           3            3  ...         6          1   \n",
       "\n",
       "   FILING_REQ_CD  PF_FILING_REQ_CD  ACCT_PD  ASSET_AMT  INCOME_AMT  \\\n",
       "0              6                 0       12        NaN         NaN   \n",
       "1              6                 0        9        NaN         NaN   \n",
       "2              2                 0        9        0.0         0.0   \n",
       "3              2                 0       12        0.0         0.0   \n",
       "4              2                 0        3  1223205.0      4479.0   \n",
       "\n",
       "   REVENUE_AMT  NTEE_CD                            SORT_NAME  \n",
       "0          NaN      NaN                                  NaN  \n",
       "1          NaN      X20                                  YCH  \n",
       "2          0.0      NaN  MUSSELSHELL GOLDEN VALLEY 4H COUNCI  \n",
       "3          0.0      NaN      13093 OUR LADY OF THE MOUNTAINS  \n",
       "4       4479.0      L21                                  NaN  \n",
       "\n",
       "[5 rows x 28 columns]"
      ]
     },
     "execution_count": 4,
     "metadata": {},
     "output_type": "execute_result"
    }
   ],
   "source": [
    "# .head() command shows first five rows - good for previewing data to ensure it imported correctly\n",
    "df.head()"
   ]
  },
  {
   "cell_type": "code",
   "execution_count": 8,
   "metadata": {},
   "outputs": [
    {
     "data": {
      "text/plain": [
       "10890"
      ]
     },
     "execution_count": 8,
     "metadata": {},
     "output_type": "execute_result"
    }
   ],
   "source": [
    "# Number of rows in data\n",
    "len(df)"
   ]
  },
  {
   "cell_type": "code",
   "execution_count": 7,
   "metadata": {},
   "outputs": [
    {
     "data": {
      "text/plain": [
       "Index(['EIN', 'NAME', 'ICO', 'STREET', 'CITY', 'STATE', 'ZIP', 'GROUP',\n",
       "       'SUBSECTION', 'AFFILIATION', 'CLASSIFICATION', 'RULING',\n",
       "       'DEDUCTIBILITY', 'FOUNDATION', 'ACTIVITY', 'ORGANIZATION', 'STATUS',\n",
       "       'TAX_PERIOD', 'ASSET_CD', 'INCOME_CD', 'FILING_REQ_CD',\n",
       "       'PF_FILING_REQ_CD', 'ACCT_PD', 'ASSET_AMT', 'INCOME_AMT', 'REVENUE_AMT',\n",
       "       'NTEE_CD', 'SORT_NAME'],\n",
       "      dtype='object')"
      ]
     },
     "execution_count": 7,
     "metadata": {},
     "output_type": "execute_result"
    }
   ],
   "source": [
    "# list all columns in data\n",
    "df.columns"
   ]
  },
  {
   "cell_type": "code",
   "execution_count": 11,
   "metadata": {},
   "outputs": [
    {
     "data": {
      "text/plain": [
       "0                                          HILLSIDE CHURCH\n",
       "1                     CHAPEL OF HOPE MINISTRIES OF ROUNDUP\n",
       "2                               MONTANA 4-H FOUNDATION INC\n",
       "3                                      KNIGHTS OF COLUMBUS\n",
       "4                                GARDEN CITY NEIGHBORS INC\n",
       "                               ...                        \n",
       "10885                    ROCKY MOUNTAIN ELK FOUNDATION INC\n",
       "10886                           TIBETAN LANGUAGE INSTITUTE\n",
       "10887    WHISPERING PINES RECREATIONAL LANDOWNERS ASSOC...\n",
       "10888                                 ALOHA NOBLEHOUSE INC\n",
       "10889                    ROCKY MOUNTAIN ELK FOUNDATION INC\n",
       "Name: NAME, Length: 10890, dtype: object"
      ]
     },
     "execution_count": 11,
     "metadata": {},
     "output_type": "execute_result"
    }
   ],
   "source": [
    "# Select a specific column (aka a 'Series')\n",
    "# NOTE square brackets. Either single or double quotes works around column name\n",
    "df['NAME']\n",
    "# Note ellipses for ommitted data"
   ]
  },
  {
   "cell_type": "code",
   "execution_count": 12,
   "metadata": {},
   "outputs": [
    {
     "data": {
      "text/plain": [
       "count    8.251000e+03\n",
       "mean     1.063926e+06\n",
       "std      1.800551e+07\n",
       "min     -2.174190e+05\n",
       "25%      0.000000e+00\n",
       "50%      0.000000e+00\n",
       "75%      7.617750e+04\n",
       "max      9.498996e+08\n",
       "Name: REVENUE_AMT, dtype: float64"
      ]
     },
     "execution_count": 12,
     "metadata": {},
     "output_type": "execute_result"
    }
   ],
   "source": [
    "# Describe numerical columns\n",
    "df['REVENUE_AMT'].describe()"
   ]
  },
  {
   "cell_type": "code",
   "execution_count": 13,
   "metadata": {},
   "outputs": [
    {
     "data": {
      "text/plain": [
       "MISSOULA       1593\n",
       "BILLINGS        962\n",
       "HELENA          787\n",
       "BOZEMAN         720\n",
       "GREAT FALLS     545\n",
       "               ... \n",
       "MOORE             1\n",
       "NEIHART           1\n",
       "GLEN              1\n",
       "TWO DOT           1\n",
       "MUSSELSHELL       1\n",
       "Name: CITY, Length: 340, dtype: int64"
      ]
     },
     "execution_count": 13,
     "metadata": {},
     "output_type": "execute_result"
    }
   ],
   "source": [
    "# Show value counts for nominal/categorical/text columns\n",
    "df['CITY'].value_counts()"
   ]
  },
  {
   "cell_type": "code",
   "execution_count": 48,
   "metadata": {},
   "outputs": [
    {
     "data": {
      "text/plain": [
       "8778452332.0"
      ]
     },
     "execution_count": 48,
     "metadata": {},
     "output_type": "execute_result"
    }
   ],
   "source": [
    "# Sum a specific column\n",
    "# Here, total revenue for MT nonprofits in list - $8 TRILLION\n",
    "df['REVENUE_AMT'].sum()"
   ]
  },
  {
   "cell_type": "markdown",
   "metadata": {},
   "source": [
    "## Basic manipulation operations\n",
    "\n",
    "See cleaning example notebook for more detail\n",
    "\n",
    "1. Select subset of columns (equivalent to SELECT in SQL)\n",
    "2. Filter rows by criterial  (equivalent to WHERE in SQL)\n",
    "3. Sort (equivalent to SORT BY in SQL)\n",
    "4. Aggregate (equivalent to GROUP BY in SQL)"
   ]
  },
  {
   "cell_type": "markdown",
   "metadata": {},
   "source": [
    "### Selecting a subset of columns"
   ]
  },
  {
   "cell_type": "code",
   "execution_count": 32,
   "metadata": {},
   "outputs": [
    {
     "data": {
      "text/html": [
       "<div>\n",
       "<style scoped>\n",
       "    .dataframe tbody tr th:only-of-type {\n",
       "        vertical-align: middle;\n",
       "    }\n",
       "\n",
       "    .dataframe tbody tr th {\n",
       "        vertical-align: top;\n",
       "    }\n",
       "\n",
       "    .dataframe thead th {\n",
       "        text-align: right;\n",
       "    }\n",
       "</style>\n",
       "<table border=\"1\" class=\"dataframe\">\n",
       "  <thead>\n",
       "    <tr style=\"text-align: right;\">\n",
       "      <th></th>\n",
       "      <th>NAME</th>\n",
       "      <th>CITY</th>\n",
       "      <th>REVENUE_AMT</th>\n",
       "    </tr>\n",
       "  </thead>\n",
       "  <tbody>\n",
       "    <tr>\n",
       "      <td>0</td>\n",
       "      <td>HILLSIDE CHURCH</td>\n",
       "      <td>WHITEFISH</td>\n",
       "      <td>NaN</td>\n",
       "    </tr>\n",
       "    <tr>\n",
       "      <td>1</td>\n",
       "      <td>CHAPEL OF HOPE MINISTRIES OF ROUNDUP</td>\n",
       "      <td>ROUNDUP</td>\n",
       "      <td>NaN</td>\n",
       "    </tr>\n",
       "    <tr>\n",
       "      <td>2</td>\n",
       "      <td>MONTANA 4-H FOUNDATION INC</td>\n",
       "      <td>ROUNDUP</td>\n",
       "      <td>0.0</td>\n",
       "    </tr>\n",
       "    <tr>\n",
       "      <td>3</td>\n",
       "      <td>KNIGHTS OF COLUMBUS</td>\n",
       "      <td>STEVENSVILLE</td>\n",
       "      <td>0.0</td>\n",
       "    </tr>\n",
       "    <tr>\n",
       "      <td>4</td>\n",
       "      <td>GARDEN CITY NEIGHBORS INC</td>\n",
       "      <td>MISSOULA</td>\n",
       "      <td>4479.0</td>\n",
       "    </tr>\n",
       "  </tbody>\n",
       "</table>\n",
       "</div>"
      ],
      "text/plain": [
       "                                   NAME          CITY  REVENUE_AMT\n",
       "0                       HILLSIDE CHURCH     WHITEFISH          NaN\n",
       "1  CHAPEL OF HOPE MINISTRIES OF ROUNDUP       ROUNDUP          NaN\n",
       "2            MONTANA 4-H FOUNDATION INC       ROUNDUP          0.0\n",
       "3                   KNIGHTS OF COLUMBUS  STEVENSVILLE          0.0\n",
       "4             GARDEN CITY NEIGHBORS INC      MISSOULA       4479.0"
      ]
     },
     "execution_count": 32,
     "metadata": {},
     "output_type": "execute_result"
    }
   ],
   "source": [
    "# Useful for making big data sets like this one less cumbersome to work with\n",
    "include_columns = ['NAME', 'CITY', 'REVENUE_AMT'] # List of column names you want\n",
    "df_subset = df[include_columns]\n",
    "df_subset.head() # show first five rows"
   ]
  },
  {
   "cell_type": "code",
   "execution_count": 33,
   "metadata": {},
   "outputs": [],
   "source": [
    "# This can also be done in a single line of code\n",
    "df_subset = df[['NAME', 'CITY', 'REVENUE_AMT']] # Note nested square brackets"
   ]
  },
  {
   "cell_type": "markdown",
   "metadata": {},
   "source": [
    "### Filtering"
   ]
  },
  {
   "cell_type": "code",
   "execution_count": 34,
   "metadata": {},
   "outputs": [
    {
     "data": {
      "text/plain": [
       "0    False\n",
       "1    False\n",
       "2    False\n",
       "3    False\n",
       "4    False\n",
       "Name: CITY, dtype: bool"
      ]
     },
     "execution_count": 34,
     "metadata": {},
     "output_type": "execute_result"
    }
   ],
   "source": [
    "# Select only nonprofits in 'HELENA'\n",
    "\n",
    "# Step 1: Create a 'filter array'\n",
    "# This is an array of True/False values, essentially whether each row in the data passes the test\n",
    "# In this case, True means 'CITY' == 'HELENA', False means that's not the case\n",
    "filter_series = df_subset['CITY'] == 'HELENA'\n",
    "\n",
    "filter_series.head()"
   ]
  },
  {
   "cell_type": "code",
   "execution_count": 25,
   "metadata": {},
   "outputs": [
    {
     "name": "stdout",
     "output_type": "stream",
     "text": [
      "Number of tax exempt orgs in Helena: 787\n"
     ]
    },
    {
     "data": {
      "text/html": [
       "<div>\n",
       "<style scoped>\n",
       "    .dataframe tbody tr th:only-of-type {\n",
       "        vertical-align: middle;\n",
       "    }\n",
       "\n",
       "    .dataframe tbody tr th {\n",
       "        vertical-align: top;\n",
       "    }\n",
       "\n",
       "    .dataframe thead th {\n",
       "        text-align: right;\n",
       "    }\n",
       "</style>\n",
       "<table border=\"1\" class=\"dataframe\">\n",
       "  <thead>\n",
       "    <tr style=\"text-align: right;\">\n",
       "      <th></th>\n",
       "      <th>NAME</th>\n",
       "      <th>CITY</th>\n",
       "      <th>REVENUE_AMT</th>\n",
       "    </tr>\n",
       "  </thead>\n",
       "  <tbody>\n",
       "    <tr>\n",
       "      <td>20</td>\n",
       "      <td>MONTANA SOUTHERN BAPTIST CONVENTION INC</td>\n",
       "      <td>HELENA</td>\n",
       "      <td>NaN</td>\n",
       "    </tr>\n",
       "    <tr>\n",
       "      <td>26</td>\n",
       "      <td>MONTANA FISH AND WILDLIFE CONSERVATION TR</td>\n",
       "      <td>HELENA</td>\n",
       "      <td>NaN</td>\n",
       "    </tr>\n",
       "    <tr>\n",
       "      <td>51</td>\n",
       "      <td>FULL GOSPEL RESTORATION CHURCH OF HELENA</td>\n",
       "      <td>HELENA</td>\n",
       "      <td>NaN</td>\n",
       "    </tr>\n",
       "    <tr>\n",
       "      <td>104</td>\n",
       "      <td>MONTANA 4-H FOUNDATION INC</td>\n",
       "      <td>HELENA</td>\n",
       "      <td>0.0</td>\n",
       "    </tr>\n",
       "    <tr>\n",
       "      <td>109</td>\n",
       "      <td>MONTANA COUNCIL ON DEVELOPMENTAL DISABILITIES</td>\n",
       "      <td>HELENA</td>\n",
       "      <td>539620.0</td>\n",
       "    </tr>\n",
       "  </tbody>\n",
       "</table>\n",
       "</div>"
      ],
      "text/plain": [
       "                                              NAME    CITY  REVENUE_AMT\n",
       "20         MONTANA SOUTHERN BAPTIST CONVENTION INC  HELENA          NaN\n",
       "26       MONTANA FISH AND WILDLIFE CONSERVATION TR  HELENA          NaN\n",
       "51        FULL GOSPEL RESTORATION CHURCH OF HELENA  HELENA          NaN\n",
       "104                     MONTANA 4-H FOUNDATION INC  HELENA          0.0\n",
       "109  MONTANA COUNCIL ON DEVELOPMENTAL DISABILITIES  HELENA     539620.0"
      ]
     },
     "execution_count": 25,
     "metadata": {},
     "output_type": "execute_result"
    }
   ],
   "source": [
    "# Step 2:\n",
    "# Use filter array to select specific rows from source data frame\n",
    "in_helena = df_subset[filter_series]\n",
    "\n",
    "print('Number of tax exempt orgs in Helena:', len(in_helena))\n",
    "in_helena.head()"
   ]
  },
  {
   "cell_type": "code",
   "execution_count": 27,
   "metadata": {},
   "outputs": [
    {
     "data": {
      "text/html": [
       "<div>\n",
       "<style scoped>\n",
       "    .dataframe tbody tr th:only-of-type {\n",
       "        vertical-align: middle;\n",
       "    }\n",
       "\n",
       "    .dataframe tbody tr th {\n",
       "        vertical-align: top;\n",
       "    }\n",
       "\n",
       "    .dataframe thead th {\n",
       "        text-align: right;\n",
       "    }\n",
       "</style>\n",
       "<table border=\"1\" class=\"dataframe\">\n",
       "  <thead>\n",
       "    <tr style=\"text-align: right;\">\n",
       "      <th></th>\n",
       "      <th>NAME</th>\n",
       "      <th>CITY</th>\n",
       "      <th>REVENUE_AMT</th>\n",
       "    </tr>\n",
       "  </thead>\n",
       "  <tbody>\n",
       "    <tr>\n",
       "      <td>20</td>\n",
       "      <td>MONTANA SOUTHERN BAPTIST CONVENTION INC</td>\n",
       "      <td>HELENA</td>\n",
       "      <td>NaN</td>\n",
       "    </tr>\n",
       "    <tr>\n",
       "      <td>26</td>\n",
       "      <td>MONTANA FISH AND WILDLIFE CONSERVATION TR</td>\n",
       "      <td>HELENA</td>\n",
       "      <td>NaN</td>\n",
       "    </tr>\n",
       "    <tr>\n",
       "      <td>51</td>\n",
       "      <td>FULL GOSPEL RESTORATION CHURCH OF HELENA</td>\n",
       "      <td>HELENA</td>\n",
       "      <td>NaN</td>\n",
       "    </tr>\n",
       "    <tr>\n",
       "      <td>104</td>\n",
       "      <td>MONTANA 4-H FOUNDATION INC</td>\n",
       "      <td>HELENA</td>\n",
       "      <td>0.0</td>\n",
       "    </tr>\n",
       "    <tr>\n",
       "      <td>109</td>\n",
       "      <td>MONTANA COUNCIL ON DEVELOPMENTAL DISABILITIES</td>\n",
       "      <td>HELENA</td>\n",
       "      <td>539620.0</td>\n",
       "    </tr>\n",
       "    <tr>\n",
       "      <td>...</td>\n",
       "      <td>...</td>\n",
       "      <td>...</td>\n",
       "      <td>...</td>\n",
       "    </tr>\n",
       "    <tr>\n",
       "      <td>10582</td>\n",
       "      <td>TOASTMASTERS INTERNATIONAL</td>\n",
       "      <td>HELENA</td>\n",
       "      <td>NaN</td>\n",
       "    </tr>\n",
       "    <tr>\n",
       "      <td>10624</td>\n",
       "      <td>SALON NATIONAL LABOUTIQUE DES HUIT CHAPEAUX ET...</td>\n",
       "      <td>HELENA</td>\n",
       "      <td>0.0</td>\n",
       "    </tr>\n",
       "    <tr>\n",
       "      <td>10648</td>\n",
       "      <td>CORRECTIONS TECHNOLOGY ASSOCIATION</td>\n",
       "      <td>HELENA</td>\n",
       "      <td>222326.0</td>\n",
       "    </tr>\n",
       "    <tr>\n",
       "      <td>10842</td>\n",
       "      <td>FEATHERED PIPE FOUNDATION INC</td>\n",
       "      <td>HELENA</td>\n",
       "      <td>577062.0</td>\n",
       "    </tr>\n",
       "    <tr>\n",
       "      <td>10846</td>\n",
       "      <td>ARTEMIS WILDLIFE FOUNDATION</td>\n",
       "      <td>HELENA</td>\n",
       "      <td>103461.0</td>\n",
       "    </tr>\n",
       "  </tbody>\n",
       "</table>\n",
       "<p>787 rows × 3 columns</p>\n",
       "</div>"
      ],
      "text/plain": [
       "                                                    NAME    CITY  REVENUE_AMT\n",
       "20               MONTANA SOUTHERN BAPTIST CONVENTION INC  HELENA          NaN\n",
       "26             MONTANA FISH AND WILDLIFE CONSERVATION TR  HELENA          NaN\n",
       "51              FULL GOSPEL RESTORATION CHURCH OF HELENA  HELENA          NaN\n",
       "104                           MONTANA 4-H FOUNDATION INC  HELENA          0.0\n",
       "109        MONTANA COUNCIL ON DEVELOPMENTAL DISABILITIES  HELENA     539620.0\n",
       "...                                                  ...     ...          ...\n",
       "10582                         TOASTMASTERS INTERNATIONAL  HELENA          NaN\n",
       "10624  SALON NATIONAL LABOUTIQUE DES HUIT CHAPEAUX ET...  HELENA          0.0\n",
       "10648                 CORRECTIONS TECHNOLOGY ASSOCIATION  HELENA     222326.0\n",
       "10842                      FEATHERED PIPE FOUNDATION INC  HELENA     577062.0\n",
       "10846                        ARTEMIS WILDLIFE FOUNDATION  HELENA     103461.0\n",
       "\n",
       "[787 rows x 3 columns]"
      ]
     },
     "execution_count": 27,
     "metadata": {},
     "output_type": "execute_result"
    }
   ],
   "source": [
    "# This is typically done as a combined one-line operation\n",
    "in_helena = df_subset[df_subset['CITY'] == 'HELENA']\n",
    "in_helena.head()"
   ]
  },
  {
   "cell_type": "markdown",
   "metadata": {},
   "source": [
    "### Sorting"
   ]
  },
  {
   "cell_type": "code",
   "execution_count": 35,
   "metadata": {},
   "outputs": [
    {
     "data": {
      "text/html": [
       "<div>\n",
       "<style scoped>\n",
       "    .dataframe tbody tr th:only-of-type {\n",
       "        vertical-align: middle;\n",
       "    }\n",
       "\n",
       "    .dataframe tbody tr th {\n",
       "        vertical-align: top;\n",
       "    }\n",
       "\n",
       "    .dataframe thead th {\n",
       "        text-align: right;\n",
       "    }\n",
       "</style>\n",
       "<table border=\"1\" class=\"dataframe\">\n",
       "  <thead>\n",
       "    <tr style=\"text-align: right;\">\n",
       "      <th></th>\n",
       "      <th>NAME</th>\n",
       "      <th>CITY</th>\n",
       "      <th>REVENUE_AMT</th>\n",
       "    </tr>\n",
       "  </thead>\n",
       "  <tbody>\n",
       "    <tr>\n",
       "      <td>2813</td>\n",
       "      <td>MONTANA HEALTH COOPERATIVE</td>\n",
       "      <td>HELENA</td>\n",
       "      <td>316396976.0</td>\n",
       "    </tr>\n",
       "    <tr>\n",
       "      <td>4710</td>\n",
       "      <td>ST PETERS HEALTH</td>\n",
       "      <td>HELENA</td>\n",
       "      <td>237827672.0</td>\n",
       "    </tr>\n",
       "    <tr>\n",
       "      <td>4680</td>\n",
       "      <td>CARROLL COLLEGE</td>\n",
       "      <td>HELENA</td>\n",
       "      <td>64353083.0</td>\n",
       "    </tr>\n",
       "    <tr>\n",
       "      <td>5864</td>\n",
       "      <td>MONTANA UNIFIED SCHOOL TRUST</td>\n",
       "      <td>HELENA</td>\n",
       "      <td>55531694.0</td>\n",
       "    </tr>\n",
       "    <tr>\n",
       "      <td>4689</td>\n",
       "      <td>MONTANA CHILDRENS HOME &amp; HOSPITAL</td>\n",
       "      <td>HELENA</td>\n",
       "      <td>31538578.0</td>\n",
       "    </tr>\n",
       "    <tr>\n",
       "      <td>5644</td>\n",
       "      <td>MONTANA HIGHER EDUCATION STUDENT ASSISTANCE CO...</td>\n",
       "      <td>HELENA</td>\n",
       "      <td>30007913.0</td>\n",
       "    </tr>\n",
       "    <tr>\n",
       "      <td>6601</td>\n",
       "      <td>MONTANA COMMUNITY FOUNDATION INC</td>\n",
       "      <td>HELENA</td>\n",
       "      <td>17028641.0</td>\n",
       "    </tr>\n",
       "    <tr>\n",
       "      <td>5092</td>\n",
       "      <td>MOUNTAIN-PACIFIC QUALITY HEALTH FOUNDATION</td>\n",
       "      <td>HELENA</td>\n",
       "      <td>16590640.0</td>\n",
       "    </tr>\n",
       "    <tr>\n",
       "      <td>4874</td>\n",
       "      <td>MONTANA HOSPITAL ASSOCIATION</td>\n",
       "      <td>HELENA</td>\n",
       "      <td>10794221.0</td>\n",
       "    </tr>\n",
       "    <tr>\n",
       "      <td>4681</td>\n",
       "      <td>INTERMOUNTAIN DEACONESS CHILDRENS SERVICES</td>\n",
       "      <td>HELENA</td>\n",
       "      <td>9269419.0</td>\n",
       "    </tr>\n",
       "  </tbody>\n",
       "</table>\n",
       "</div>"
      ],
      "text/plain": [
       "                                                   NAME    CITY  REVENUE_AMT\n",
       "2813                         MONTANA HEALTH COOPERATIVE  HELENA  316396976.0\n",
       "4710                                   ST PETERS HEALTH  HELENA  237827672.0\n",
       "4680                                    CARROLL COLLEGE  HELENA   64353083.0\n",
       "5864                       MONTANA UNIFIED SCHOOL TRUST  HELENA   55531694.0\n",
       "4689                  MONTANA CHILDRENS HOME & HOSPITAL  HELENA   31538578.0\n",
       "5644  MONTANA HIGHER EDUCATION STUDENT ASSISTANCE CO...  HELENA   30007913.0\n",
       "6601                   MONTANA COMMUNITY FOUNDATION INC  HELENA   17028641.0\n",
       "5092         MOUNTAIN-PACIFIC QUALITY HEALTH FOUNDATION  HELENA   16590640.0\n",
       "4874                       MONTANA HOSPITAL ASSOCIATION  HELENA   10794221.0\n",
       "4681         INTERMOUNTAIN DEACONESS CHILDRENS SERVICES  HELENA    9269419.0"
      ]
     },
     "execution_count": 35,
     "metadata": {},
     "output_type": "execute_result"
    }
   ],
   "source": [
    "# Largest nonprofits in Helena by reported revenue\n",
    "in_helena_sorted_descending = in_helena.sort_values('REVENUE_AMT', ascending=False) # ascending=False sorts descending\n",
    "\n",
    "# Top 10\n",
    "in_helena_sorted_descending.head(10)"
   ]
  },
  {
   "cell_type": "markdown",
   "metadata": {},
   "source": [
    "## Aggregation\n",
    "\n",
    "See https://www.shanelynn.ie/summarising-aggregation-and-grouping-data-in-python-pandas/ for a more comprehensive tutorial"
   ]
  },
  {
   "cell_type": "code",
   "execution_count": 38,
   "metadata": {},
   "outputs": [
    {
     "data": {
      "text/plain": [
       "<pandas.core.groupby.generic.DataFrameGroupBy object at 0x11b81de48>"
      ]
     },
     "execution_count": 38,
     "metadata": {},
     "output_type": "execute_result"
    }
   ],
   "source": [
    "# Show total amount of reported tax exempt org revenue, by city\n",
    "\n",
    "# Step 1: Group by a column\n",
    "grouped = df_subset.groupby('CITY')\n",
    "\n",
    "# This doesn't display nicely, unfortunately\n",
    "grouped"
   ]
  },
  {
   "cell_type": "code",
   "execution_count": 43,
   "metadata": {},
   "outputs": [
    {
     "data": {
      "text/html": [
       "<div>\n",
       "<style scoped>\n",
       "    .dataframe tbody tr th:only-of-type {\n",
       "        vertical-align: middle;\n",
       "    }\n",
       "\n",
       "    .dataframe tbody tr th {\n",
       "        vertical-align: top;\n",
       "    }\n",
       "\n",
       "    .dataframe thead th {\n",
       "        text-align: right;\n",
       "    }\n",
       "</style>\n",
       "<table border=\"1\" class=\"dataframe\">\n",
       "  <thead>\n",
       "    <tr style=\"text-align: right;\">\n",
       "      <th></th>\n",
       "      <th>NAME</th>\n",
       "      <th>CITY</th>\n",
       "      <th>REVENUE_AMT</th>\n",
       "    </tr>\n",
       "  </thead>\n",
       "  <tbody>\n",
       "    <tr>\n",
       "      <td>16</td>\n",
       "      <td>SON RISE TRUCKING MINISTRY INC</td>\n",
       "      <td>EAST HELENA</td>\n",
       "      <td>0.0</td>\n",
       "    </tr>\n",
       "    <tr>\n",
       "      <td>262</td>\n",
       "      <td>FILAM MONTANA</td>\n",
       "      <td>EAST HELENA</td>\n",
       "      <td>0.0</td>\n",
       "    </tr>\n",
       "    <tr>\n",
       "      <td>423</td>\n",
       "      <td>UNIFIED BOATERS OF CANYON FERRY INC</td>\n",
       "      <td>EAST HELENA</td>\n",
       "      <td>0.0</td>\n",
       "    </tr>\n",
       "    <tr>\n",
       "      <td>523</td>\n",
       "      <td>JOHNNY WALKER RELIEF FUND</td>\n",
       "      <td>EAST HELENA</td>\n",
       "      <td>0.0</td>\n",
       "    </tr>\n",
       "    <tr>\n",
       "      <td>900</td>\n",
       "      <td>SONS OF NORWAY</td>\n",
       "      <td>EAST HELENA</td>\n",
       "      <td>0.0</td>\n",
       "    </tr>\n",
       "  </tbody>\n",
       "</table>\n",
       "</div>"
      ],
      "text/plain": [
       "                                    NAME         CITY  REVENUE_AMT\n",
       "16        SON RISE TRUCKING MINISTRY INC  EAST HELENA          0.0\n",
       "262                        FILAM MONTANA  EAST HELENA          0.0\n",
       "423  UNIFIED BOATERS OF CANYON FERRY INC  EAST HELENA          0.0\n",
       "523            JOHNNY WALKER RELIEF FUND  EAST HELENA          0.0\n",
       "900                       SONS OF NORWAY  EAST HELENA          0.0"
      ]
     },
     "execution_count": 43,
     "metadata": {},
     "output_type": "execute_result"
    }
   ],
   "source": [
    "# Aside: you can specific groups with .get_group(<value>)\n",
    "east_helena = grouped.get_group('EAST HELENA')\n",
    "east_helena.head()"
   ]
  },
  {
   "cell_type": "code",
   "execution_count": 49,
   "metadata": {},
   "outputs": [
    {
     "data": {
      "text/html": [
       "<div>\n",
       "<style scoped>\n",
       "    .dataframe tbody tr th:only-of-type {\n",
       "        vertical-align: middle;\n",
       "    }\n",
       "\n",
       "    .dataframe tbody tr th {\n",
       "        vertical-align: top;\n",
       "    }\n",
       "\n",
       "    .dataframe thead th {\n",
       "        text-align: right;\n",
       "    }\n",
       "</style>\n",
       "<table border=\"1\" class=\"dataframe\">\n",
       "  <thead>\n",
       "    <tr style=\"text-align: right;\">\n",
       "      <th></th>\n",
       "      <th>total_city_revenue</th>\n",
       "    </tr>\n",
       "    <tr>\n",
       "      <th>CITY</th>\n",
       "      <th></th>\n",
       "    </tr>\n",
       "  </thead>\n",
       "  <tbody>\n",
       "    <tr>\n",
       "      <td>BILLINGS</td>\n",
       "      <td>1.774206e+09</td>\n",
       "    </tr>\n",
       "    <tr>\n",
       "      <td>GREAT FALLS</td>\n",
       "      <td>1.350055e+09</td>\n",
       "    </tr>\n",
       "    <tr>\n",
       "      <td>HELENA</td>\n",
       "      <td>1.018756e+09</td>\n",
       "    </tr>\n",
       "    <tr>\n",
       "      <td>SIDNEY</td>\n",
       "      <td>7.365887e+08</td>\n",
       "    </tr>\n",
       "    <tr>\n",
       "      <td>KALISPELL</td>\n",
       "      <td>6.875648e+08</td>\n",
       "    </tr>\n",
       "    <tr>\n",
       "      <td>...</td>\n",
       "      <td>...</td>\n",
       "    </tr>\n",
       "    <tr>\n",
       "      <td>OPHEIM</td>\n",
       "      <td>0.000000e+00</td>\n",
       "    </tr>\n",
       "    <tr>\n",
       "      <td>OUTLOOK</td>\n",
       "      <td>0.000000e+00</td>\n",
       "    </tr>\n",
       "    <tr>\n",
       "      <td>ELLISTON</td>\n",
       "      <td>0.000000e+00</td>\n",
       "    </tr>\n",
       "    <tr>\n",
       "      <td>E HELENA</td>\n",
       "      <td>0.000000e+00</td>\n",
       "    </tr>\n",
       "    <tr>\n",
       "      <td>ZORTMAN</td>\n",
       "      <td>0.000000e+00</td>\n",
       "    </tr>\n",
       "  </tbody>\n",
       "</table>\n",
       "<p>340 rows × 1 columns</p>\n",
       "</div>"
      ],
      "text/plain": [
       "             total_city_revenue\n",
       "CITY                           \n",
       "BILLINGS           1.774206e+09\n",
       "GREAT FALLS        1.350055e+09\n",
       "HELENA             1.018756e+09\n",
       "SIDNEY             7.365887e+08\n",
       "KALISPELL          6.875648e+08\n",
       "...                         ...\n",
       "OPHEIM             0.000000e+00\n",
       "OUTLOOK            0.000000e+00\n",
       "ELLISTON           0.000000e+00\n",
       "E HELENA           0.000000e+00\n",
       "ZORTMAN            0.000000e+00\n",
       "\n",
       "[340 rows x 1 columns]"
      ]
     },
     "execution_count": 49,
     "metadata": {},
     "output_type": "execute_result"
    }
   ],
   "source": [
    "# Step 2: Apply aggregation\n",
    "\n",
    "total_by_city = grouped.agg(\n",
    "    total_city_revenue=('REVENUE_AMT', 'sum') # Take sum of revenue amounts in group\n",
    ")\n",
    "# Format for is col_name=('col_to_aggregate', 'aggregation_function')\n",
    "# aggregation_function can be 'sum', 'count', 'max', 'min', etc.\n",
    "# See https://www.shanelynn.ie/summarising-aggregation-and-grouping-data-in-python-pandas/ for complete list\n",
    "# Also you can define your own if you really want to\n",
    "\n",
    "total_by_city.sort_values('total_city_revenue', ascending=False)"
   ]
  },
  {
   "cell_type": "code",
   "execution_count": null,
   "metadata": {},
   "outputs": [],
   "source": []
  }
 ],
 "metadata": {
  "kernelspec": {
   "display_name": "Python 3",
   "language": "python",
   "name": "python3"
  },
  "language_info": {
   "codemirror_mode": {
    "name": "ipython",
    "version": 3
   },
   "file_extension": ".py",
   "mimetype": "text/x-python",
   "name": "python",
   "nbconvert_exporter": "python",
   "pygments_lexer": "ipython3",
   "version": "3.6.4"
  }
 },
 "nbformat": 4,
 "nbformat_minor": 4
}
